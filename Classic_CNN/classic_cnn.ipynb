{
  "nbformat": 4,
  "nbformat_minor": 0,
  "metadata": {
    "colab": {
      "provenance": [],
      "gpuType": "T4"
    },
    "kernelspec": {
      "name": "python3",
      "display_name": "Python 3"
    },
    "language_info": {
      "name": "python"
    },
    "accelerator": "GPU",
    "widgets": {
      "application/vnd.jupyter.widget-state+json": {
        "666ee1fb7c414381bf6b2f136bc00262": {
          "model_module": "@jupyter-widgets/controls",
          "model_name": "HBoxModel",
          "model_module_version": "1.5.0",
          "state": {
            "_dom_classes": [],
            "_model_module": "@jupyter-widgets/controls",
            "_model_module_version": "1.5.0",
            "_model_name": "HBoxModel",
            "_view_count": null,
            "_view_module": "@jupyter-widgets/controls",
            "_view_module_version": "1.5.0",
            "_view_name": "HBoxView",
            "box_style": "",
            "children": [
              "IPY_MODEL_42ba397c746b47e88c42a45b44559586",
              "IPY_MODEL_91373db5c9b54587ac247fbb9d427b75",
              "IPY_MODEL_1ade7b182f594848a8782ac107c972b2"
            ],
            "layout": "IPY_MODEL_26bb9d31b41a4d118921e5a814b2c763"
          }
        },
        "42ba397c746b47e88c42a45b44559586": {
          "model_module": "@jupyter-widgets/controls",
          "model_name": "HTMLModel",
          "model_module_version": "1.5.0",
          "state": {
            "_dom_classes": [],
            "_model_module": "@jupyter-widgets/controls",
            "_model_module_version": "1.5.0",
            "_model_name": "HTMLModel",
            "_view_count": null,
            "_view_module": "@jupyter-widgets/controls",
            "_view_module_version": "1.5.0",
            "_view_name": "HTMLView",
            "description": "",
            "description_tooltip": null,
            "layout": "IPY_MODEL_e352e186cdd7409ab8dbf4462eb952f6",
            "placeholder": "​",
            "style": "IPY_MODEL_8457f04e2ef04089acc0f83632574dad",
            "value": "100%"
          }
        },
        "91373db5c9b54587ac247fbb9d427b75": {
          "model_module": "@jupyter-widgets/controls",
          "model_name": "FloatProgressModel",
          "model_module_version": "1.5.0",
          "state": {
            "_dom_classes": [],
            "_model_module": "@jupyter-widgets/controls",
            "_model_module_version": "1.5.0",
            "_model_name": "FloatProgressModel",
            "_view_count": null,
            "_view_module": "@jupyter-widgets/controls",
            "_view_module_version": "1.5.0",
            "_view_name": "ProgressView",
            "bar_style": "success",
            "description": "",
            "description_tooltip": null,
            "layout": "IPY_MODEL_91f119041c454cc5a7eb32c64b6de06f",
            "max": 50000,
            "min": 0,
            "orientation": "horizontal",
            "style": "IPY_MODEL_ebcf3728bca54163a090f895393c49ee",
            "value": 50000
          }
        },
        "1ade7b182f594848a8782ac107c972b2": {
          "model_module": "@jupyter-widgets/controls",
          "model_name": "HTMLModel",
          "model_module_version": "1.5.0",
          "state": {
            "_dom_classes": [],
            "_model_module": "@jupyter-widgets/controls",
            "_model_module_version": "1.5.0",
            "_model_name": "HTMLModel",
            "_view_count": null,
            "_view_module": "@jupyter-widgets/controls",
            "_view_module_version": "1.5.0",
            "_view_name": "HTMLView",
            "description": "",
            "description_tooltip": null,
            "layout": "IPY_MODEL_512be49a423545b1a84f574c7dd4390b",
            "placeholder": "​",
            "style": "IPY_MODEL_dc9036d641d7433aa4e4171e3b5c522c",
            "value": " 50000/50000 [00:23&lt;00:00, 1961.33it/s]"
          }
        },
        "26bb9d31b41a4d118921e5a814b2c763": {
          "model_module": "@jupyter-widgets/base",
          "model_name": "LayoutModel",
          "model_module_version": "1.2.0",
          "state": {
            "_model_module": "@jupyter-widgets/base",
            "_model_module_version": "1.2.0",
            "_model_name": "LayoutModel",
            "_view_count": null,
            "_view_module": "@jupyter-widgets/base",
            "_view_module_version": "1.2.0",
            "_view_name": "LayoutView",
            "align_content": null,
            "align_items": null,
            "align_self": null,
            "border": null,
            "bottom": null,
            "display": null,
            "flex": null,
            "flex_flow": null,
            "grid_area": null,
            "grid_auto_columns": null,
            "grid_auto_flow": null,
            "grid_auto_rows": null,
            "grid_column": null,
            "grid_gap": null,
            "grid_row": null,
            "grid_template_areas": null,
            "grid_template_columns": null,
            "grid_template_rows": null,
            "height": null,
            "justify_content": null,
            "justify_items": null,
            "left": null,
            "margin": null,
            "max_height": null,
            "max_width": null,
            "min_height": null,
            "min_width": null,
            "object_fit": null,
            "object_position": null,
            "order": null,
            "overflow": null,
            "overflow_x": null,
            "overflow_y": null,
            "padding": null,
            "right": null,
            "top": null,
            "visibility": null,
            "width": null
          }
        },
        "e352e186cdd7409ab8dbf4462eb952f6": {
          "model_module": "@jupyter-widgets/base",
          "model_name": "LayoutModel",
          "model_module_version": "1.2.0",
          "state": {
            "_model_module": "@jupyter-widgets/base",
            "_model_module_version": "1.2.0",
            "_model_name": "LayoutModel",
            "_view_count": null,
            "_view_module": "@jupyter-widgets/base",
            "_view_module_version": "1.2.0",
            "_view_name": "LayoutView",
            "align_content": null,
            "align_items": null,
            "align_self": null,
            "border": null,
            "bottom": null,
            "display": null,
            "flex": null,
            "flex_flow": null,
            "grid_area": null,
            "grid_auto_columns": null,
            "grid_auto_flow": null,
            "grid_auto_rows": null,
            "grid_column": null,
            "grid_gap": null,
            "grid_row": null,
            "grid_template_areas": null,
            "grid_template_columns": null,
            "grid_template_rows": null,
            "height": null,
            "justify_content": null,
            "justify_items": null,
            "left": null,
            "margin": null,
            "max_height": null,
            "max_width": null,
            "min_height": null,
            "min_width": null,
            "object_fit": null,
            "object_position": null,
            "order": null,
            "overflow": null,
            "overflow_x": null,
            "overflow_y": null,
            "padding": null,
            "right": null,
            "top": null,
            "visibility": null,
            "width": null
          }
        },
        "8457f04e2ef04089acc0f83632574dad": {
          "model_module": "@jupyter-widgets/controls",
          "model_name": "DescriptionStyleModel",
          "model_module_version": "1.5.0",
          "state": {
            "_model_module": "@jupyter-widgets/controls",
            "_model_module_version": "1.5.0",
            "_model_name": "DescriptionStyleModel",
            "_view_count": null,
            "_view_module": "@jupyter-widgets/base",
            "_view_module_version": "1.2.0",
            "_view_name": "StyleView",
            "description_width": ""
          }
        },
        "91f119041c454cc5a7eb32c64b6de06f": {
          "model_module": "@jupyter-widgets/base",
          "model_name": "LayoutModel",
          "model_module_version": "1.2.0",
          "state": {
            "_model_module": "@jupyter-widgets/base",
            "_model_module_version": "1.2.0",
            "_model_name": "LayoutModel",
            "_view_count": null,
            "_view_module": "@jupyter-widgets/base",
            "_view_module_version": "1.2.0",
            "_view_name": "LayoutView",
            "align_content": null,
            "align_items": null,
            "align_self": null,
            "border": null,
            "bottom": null,
            "display": null,
            "flex": null,
            "flex_flow": null,
            "grid_area": null,
            "grid_auto_columns": null,
            "grid_auto_flow": null,
            "grid_auto_rows": null,
            "grid_column": null,
            "grid_gap": null,
            "grid_row": null,
            "grid_template_areas": null,
            "grid_template_columns": null,
            "grid_template_rows": null,
            "height": null,
            "justify_content": null,
            "justify_items": null,
            "left": null,
            "margin": null,
            "max_height": null,
            "max_width": null,
            "min_height": null,
            "min_width": null,
            "object_fit": null,
            "object_position": null,
            "order": null,
            "overflow": null,
            "overflow_x": null,
            "overflow_y": null,
            "padding": null,
            "right": null,
            "top": null,
            "visibility": null,
            "width": null
          }
        },
        "ebcf3728bca54163a090f895393c49ee": {
          "model_module": "@jupyter-widgets/controls",
          "model_name": "ProgressStyleModel",
          "model_module_version": "1.5.0",
          "state": {
            "_model_module": "@jupyter-widgets/controls",
            "_model_module_version": "1.5.0",
            "_model_name": "ProgressStyleModel",
            "_view_count": null,
            "_view_module": "@jupyter-widgets/base",
            "_view_module_version": "1.2.0",
            "_view_name": "StyleView",
            "bar_color": null,
            "description_width": ""
          }
        },
        "512be49a423545b1a84f574c7dd4390b": {
          "model_module": "@jupyter-widgets/base",
          "model_name": "LayoutModel",
          "model_module_version": "1.2.0",
          "state": {
            "_model_module": "@jupyter-widgets/base",
            "_model_module_version": "1.2.0",
            "_model_name": "LayoutModel",
            "_view_count": null,
            "_view_module": "@jupyter-widgets/base",
            "_view_module_version": "1.2.0",
            "_view_name": "LayoutView",
            "align_content": null,
            "align_items": null,
            "align_self": null,
            "border": null,
            "bottom": null,
            "display": null,
            "flex": null,
            "flex_flow": null,
            "grid_area": null,
            "grid_auto_columns": null,
            "grid_auto_flow": null,
            "grid_auto_rows": null,
            "grid_column": null,
            "grid_gap": null,
            "grid_row": null,
            "grid_template_areas": null,
            "grid_template_columns": null,
            "grid_template_rows": null,
            "height": null,
            "justify_content": null,
            "justify_items": null,
            "left": null,
            "margin": null,
            "max_height": null,
            "max_width": null,
            "min_height": null,
            "min_width": null,
            "object_fit": null,
            "object_position": null,
            "order": null,
            "overflow": null,
            "overflow_x": null,
            "overflow_y": null,
            "padding": null,
            "right": null,
            "top": null,
            "visibility": null,
            "width": null
          }
        },
        "dc9036d641d7433aa4e4171e3b5c522c": {
          "model_module": "@jupyter-widgets/controls",
          "model_name": "DescriptionStyleModel",
          "model_module_version": "1.5.0",
          "state": {
            "_model_module": "@jupyter-widgets/controls",
            "_model_module_version": "1.5.0",
            "_model_name": "DescriptionStyleModel",
            "_view_count": null,
            "_view_module": "@jupyter-widgets/base",
            "_view_module_version": "1.2.0",
            "_view_name": "StyleView",
            "description_width": ""
          }
        },
        "9f336404316d46d0bb360655e5314a74": {
          "model_module": "@jupyter-widgets/controls",
          "model_name": "HBoxModel",
          "model_module_version": "1.5.0",
          "state": {
            "_dom_classes": [],
            "_model_module": "@jupyter-widgets/controls",
            "_model_module_version": "1.5.0",
            "_model_name": "HBoxModel",
            "_view_count": null,
            "_view_module": "@jupyter-widgets/controls",
            "_view_module_version": "1.5.0",
            "_view_name": "HBoxView",
            "box_style": "",
            "children": [
              "IPY_MODEL_bf51154c8abc490495df2a8269c0baec",
              "IPY_MODEL_513dc98e715f4c99b2a87758ea7caf01",
              "IPY_MODEL_39b2e8b95ad042cfb1a1eb682573fa0f"
            ],
            "layout": "IPY_MODEL_5e8077784dd743eb95f15d20b580e644"
          }
        },
        "bf51154c8abc490495df2a8269c0baec": {
          "model_module": "@jupyter-widgets/controls",
          "model_name": "HTMLModel",
          "model_module_version": "1.5.0",
          "state": {
            "_dom_classes": [],
            "_model_module": "@jupyter-widgets/controls",
            "_model_module_version": "1.5.0",
            "_model_name": "HTMLModel",
            "_view_count": null,
            "_view_module": "@jupyter-widgets/controls",
            "_view_module_version": "1.5.0",
            "_view_name": "HTMLView",
            "description": "",
            "description_tooltip": null,
            "layout": "IPY_MODEL_34c28c39ab00423db1af2bcbf5d12f31",
            "placeholder": "​",
            "style": "IPY_MODEL_d3c3e7fbc2a14db59b06d3028b41d3b6",
            "value": "100%"
          }
        },
        "513dc98e715f4c99b2a87758ea7caf01": {
          "model_module": "@jupyter-widgets/controls",
          "model_name": "FloatProgressModel",
          "model_module_version": "1.5.0",
          "state": {
            "_dom_classes": [],
            "_model_module": "@jupyter-widgets/controls",
            "_model_module_version": "1.5.0",
            "_model_name": "FloatProgressModel",
            "_view_count": null,
            "_view_module": "@jupyter-widgets/controls",
            "_view_module_version": "1.5.0",
            "_view_name": "ProgressView",
            "bar_style": "success",
            "description": "",
            "description_tooltip": null,
            "layout": "IPY_MODEL_ef4d753a4e2140bda2b614af0050d4d5",
            "max": 10000,
            "min": 0,
            "orientation": "horizontal",
            "style": "IPY_MODEL_5d717bde27f341d68cbaa425af8ad9c1",
            "value": 10000
          }
        },
        "39b2e8b95ad042cfb1a1eb682573fa0f": {
          "model_module": "@jupyter-widgets/controls",
          "model_name": "HTMLModel",
          "model_module_version": "1.5.0",
          "state": {
            "_dom_classes": [],
            "_model_module": "@jupyter-widgets/controls",
            "_model_module_version": "1.5.0",
            "_model_name": "HTMLModel",
            "_view_count": null,
            "_view_module": "@jupyter-widgets/controls",
            "_view_module_version": "1.5.0",
            "_view_name": "HTMLView",
            "description": "",
            "description_tooltip": null,
            "layout": "IPY_MODEL_cb1f0ff2d56d4ed5927f17f08789be7f",
            "placeholder": "​",
            "style": "IPY_MODEL_101dec42a0bb45f79d9e0448cdf76798",
            "value": " 10000/10000 [00:04&lt;00:00, 2475.54it/s]"
          }
        },
        "5e8077784dd743eb95f15d20b580e644": {
          "model_module": "@jupyter-widgets/base",
          "model_name": "LayoutModel",
          "model_module_version": "1.2.0",
          "state": {
            "_model_module": "@jupyter-widgets/base",
            "_model_module_version": "1.2.0",
            "_model_name": "LayoutModel",
            "_view_count": null,
            "_view_module": "@jupyter-widgets/base",
            "_view_module_version": "1.2.0",
            "_view_name": "LayoutView",
            "align_content": null,
            "align_items": null,
            "align_self": null,
            "border": null,
            "bottom": null,
            "display": null,
            "flex": null,
            "flex_flow": null,
            "grid_area": null,
            "grid_auto_columns": null,
            "grid_auto_flow": null,
            "grid_auto_rows": null,
            "grid_column": null,
            "grid_gap": null,
            "grid_row": null,
            "grid_template_areas": null,
            "grid_template_columns": null,
            "grid_template_rows": null,
            "height": null,
            "justify_content": null,
            "justify_items": null,
            "left": null,
            "margin": null,
            "max_height": null,
            "max_width": null,
            "min_height": null,
            "min_width": null,
            "object_fit": null,
            "object_position": null,
            "order": null,
            "overflow": null,
            "overflow_x": null,
            "overflow_y": null,
            "padding": null,
            "right": null,
            "top": null,
            "visibility": null,
            "width": null
          }
        },
        "34c28c39ab00423db1af2bcbf5d12f31": {
          "model_module": "@jupyter-widgets/base",
          "model_name": "LayoutModel",
          "model_module_version": "1.2.0",
          "state": {
            "_model_module": "@jupyter-widgets/base",
            "_model_module_version": "1.2.0",
            "_model_name": "LayoutModel",
            "_view_count": null,
            "_view_module": "@jupyter-widgets/base",
            "_view_module_version": "1.2.0",
            "_view_name": "LayoutView",
            "align_content": null,
            "align_items": null,
            "align_self": null,
            "border": null,
            "bottom": null,
            "display": null,
            "flex": null,
            "flex_flow": null,
            "grid_area": null,
            "grid_auto_columns": null,
            "grid_auto_flow": null,
            "grid_auto_rows": null,
            "grid_column": null,
            "grid_gap": null,
            "grid_row": null,
            "grid_template_areas": null,
            "grid_template_columns": null,
            "grid_template_rows": null,
            "height": null,
            "justify_content": null,
            "justify_items": null,
            "left": null,
            "margin": null,
            "max_height": null,
            "max_width": null,
            "min_height": null,
            "min_width": null,
            "object_fit": null,
            "object_position": null,
            "order": null,
            "overflow": null,
            "overflow_x": null,
            "overflow_y": null,
            "padding": null,
            "right": null,
            "top": null,
            "visibility": null,
            "width": null
          }
        },
        "d3c3e7fbc2a14db59b06d3028b41d3b6": {
          "model_module": "@jupyter-widgets/controls",
          "model_name": "DescriptionStyleModel",
          "model_module_version": "1.5.0",
          "state": {
            "_model_module": "@jupyter-widgets/controls",
            "_model_module_version": "1.5.0",
            "_model_name": "DescriptionStyleModel",
            "_view_count": null,
            "_view_module": "@jupyter-widgets/base",
            "_view_module_version": "1.2.0",
            "_view_name": "StyleView",
            "description_width": ""
          }
        },
        "ef4d753a4e2140bda2b614af0050d4d5": {
          "model_module": "@jupyter-widgets/base",
          "model_name": "LayoutModel",
          "model_module_version": "1.2.0",
          "state": {
            "_model_module": "@jupyter-widgets/base",
            "_model_module_version": "1.2.0",
            "_model_name": "LayoutModel",
            "_view_count": null,
            "_view_module": "@jupyter-widgets/base",
            "_view_module_version": "1.2.0",
            "_view_name": "LayoutView",
            "align_content": null,
            "align_items": null,
            "align_self": null,
            "border": null,
            "bottom": null,
            "display": null,
            "flex": null,
            "flex_flow": null,
            "grid_area": null,
            "grid_auto_columns": null,
            "grid_auto_flow": null,
            "grid_auto_rows": null,
            "grid_column": null,
            "grid_gap": null,
            "grid_row": null,
            "grid_template_areas": null,
            "grid_template_columns": null,
            "grid_template_rows": null,
            "height": null,
            "justify_content": null,
            "justify_items": null,
            "left": null,
            "margin": null,
            "max_height": null,
            "max_width": null,
            "min_height": null,
            "min_width": null,
            "object_fit": null,
            "object_position": null,
            "order": null,
            "overflow": null,
            "overflow_x": null,
            "overflow_y": null,
            "padding": null,
            "right": null,
            "top": null,
            "visibility": null,
            "width": null
          }
        },
        "5d717bde27f341d68cbaa425af8ad9c1": {
          "model_module": "@jupyter-widgets/controls",
          "model_name": "ProgressStyleModel",
          "model_module_version": "1.5.0",
          "state": {
            "_model_module": "@jupyter-widgets/controls",
            "_model_module_version": "1.5.0",
            "_model_name": "ProgressStyleModel",
            "_view_count": null,
            "_view_module": "@jupyter-widgets/base",
            "_view_module_version": "1.2.0",
            "_view_name": "StyleView",
            "bar_color": null,
            "description_width": ""
          }
        },
        "cb1f0ff2d56d4ed5927f17f08789be7f": {
          "model_module": "@jupyter-widgets/base",
          "model_name": "LayoutModel",
          "model_module_version": "1.2.0",
          "state": {
            "_model_module": "@jupyter-widgets/base",
            "_model_module_version": "1.2.0",
            "_model_name": "LayoutModel",
            "_view_count": null,
            "_view_module": "@jupyter-widgets/base",
            "_view_module_version": "1.2.0",
            "_view_name": "LayoutView",
            "align_content": null,
            "align_items": null,
            "align_self": null,
            "border": null,
            "bottom": null,
            "display": null,
            "flex": null,
            "flex_flow": null,
            "grid_area": null,
            "grid_auto_columns": null,
            "grid_auto_flow": null,
            "grid_auto_rows": null,
            "grid_column": null,
            "grid_gap": null,
            "grid_row": null,
            "grid_template_areas": null,
            "grid_template_columns": null,
            "grid_template_rows": null,
            "height": null,
            "justify_content": null,
            "justify_items": null,
            "left": null,
            "margin": null,
            "max_height": null,
            "max_width": null,
            "min_height": null,
            "min_width": null,
            "object_fit": null,
            "object_position": null,
            "order": null,
            "overflow": null,
            "overflow_x": null,
            "overflow_y": null,
            "padding": null,
            "right": null,
            "top": null,
            "visibility": null,
            "width": null
          }
        },
        "101dec42a0bb45f79d9e0448cdf76798": {
          "model_module": "@jupyter-widgets/controls",
          "model_name": "DescriptionStyleModel",
          "model_module_version": "1.5.0",
          "state": {
            "_model_module": "@jupyter-widgets/controls",
            "_model_module_version": "1.5.0",
            "_model_name": "DescriptionStyleModel",
            "_view_count": null,
            "_view_module": "@jupyter-widgets/base",
            "_view_module_version": "1.2.0",
            "_view_name": "StyleView",
            "description_width": ""
          }
        },
        "e5ecb0c4d76f458f98f01d66b1da4dbf": {
          "model_module": "@jupyter-widgets/controls",
          "model_name": "HBoxModel",
          "model_module_version": "1.5.0",
          "state": {
            "_dom_classes": [],
            "_model_module": "@jupyter-widgets/controls",
            "_model_module_version": "1.5.0",
            "_model_name": "HBoxModel",
            "_view_count": null,
            "_view_module": "@jupyter-widgets/controls",
            "_view_module_version": "1.5.0",
            "_view_name": "HBoxView",
            "box_style": "",
            "children": [
              "IPY_MODEL_0402a646c4f749229124341592f6a455",
              "IPY_MODEL_d61d6b1cab394d91a8e4e29b32c4f574",
              "IPY_MODEL_24291f653b5641febd8cc5a8b12457f6"
            ],
            "layout": "IPY_MODEL_5be07133b891450481d30db4cd4e492c"
          }
        },
        "0402a646c4f749229124341592f6a455": {
          "model_module": "@jupyter-widgets/controls",
          "model_name": "HTMLModel",
          "model_module_version": "1.5.0",
          "state": {
            "_dom_classes": [],
            "_model_module": "@jupyter-widgets/controls",
            "_model_module_version": "1.5.0",
            "_model_name": "HTMLModel",
            "_view_count": null,
            "_view_module": "@jupyter-widgets/controls",
            "_view_module_version": "1.5.0",
            "_view_name": "HTMLView",
            "description": "",
            "description_tooltip": null,
            "layout": "IPY_MODEL_3a04dd227a8d4617b14e1975e880f473",
            "placeholder": "​",
            "style": "IPY_MODEL_4ba0256d759a4a039db9dd79b493ef4f",
            "value": "100%"
          }
        },
        "d61d6b1cab394d91a8e4e29b32c4f574": {
          "model_module": "@jupyter-widgets/controls",
          "model_name": "FloatProgressModel",
          "model_module_version": "1.5.0",
          "state": {
            "_dom_classes": [],
            "_model_module": "@jupyter-widgets/controls",
            "_model_module_version": "1.5.0",
            "_model_name": "FloatProgressModel",
            "_view_count": null,
            "_view_module": "@jupyter-widgets/controls",
            "_view_module_version": "1.5.0",
            "_view_name": "ProgressView",
            "bar_style": "success",
            "description": "",
            "description_tooltip": null,
            "layout": "IPY_MODEL_5c04279023a64734915668b38fd7f142",
            "max": 50000,
            "min": 0,
            "orientation": "horizontal",
            "style": "IPY_MODEL_d220443e21904e2cb7e4ef228962070a",
            "value": 50000
          }
        },
        "24291f653b5641febd8cc5a8b12457f6": {
          "model_module": "@jupyter-widgets/controls",
          "model_name": "HTMLModel",
          "model_module_version": "1.5.0",
          "state": {
            "_dom_classes": [],
            "_model_module": "@jupyter-widgets/controls",
            "_model_module_version": "1.5.0",
            "_model_name": "HTMLModel",
            "_view_count": null,
            "_view_module": "@jupyter-widgets/controls",
            "_view_module_version": "1.5.0",
            "_view_name": "HTMLView",
            "description": "",
            "description_tooltip": null,
            "layout": "IPY_MODEL_2601536e53a94e81a876987554edfc75",
            "placeholder": "​",
            "style": "IPY_MODEL_19a8a2a492a247de8f41682082e6f5e8",
            "value": " 50000/50000 [00:02&lt;00:00, 21385.66it/s]"
          }
        },
        "5be07133b891450481d30db4cd4e492c": {
          "model_module": "@jupyter-widgets/base",
          "model_name": "LayoutModel",
          "model_module_version": "1.2.0",
          "state": {
            "_model_module": "@jupyter-widgets/base",
            "_model_module_version": "1.2.0",
            "_model_name": "LayoutModel",
            "_view_count": null,
            "_view_module": "@jupyter-widgets/base",
            "_view_module_version": "1.2.0",
            "_view_name": "LayoutView",
            "align_content": null,
            "align_items": null,
            "align_self": null,
            "border": null,
            "bottom": null,
            "display": null,
            "flex": null,
            "flex_flow": null,
            "grid_area": null,
            "grid_auto_columns": null,
            "grid_auto_flow": null,
            "grid_auto_rows": null,
            "grid_column": null,
            "grid_gap": null,
            "grid_row": null,
            "grid_template_areas": null,
            "grid_template_columns": null,
            "grid_template_rows": null,
            "height": null,
            "justify_content": null,
            "justify_items": null,
            "left": null,
            "margin": null,
            "max_height": null,
            "max_width": null,
            "min_height": null,
            "min_width": null,
            "object_fit": null,
            "object_position": null,
            "order": null,
            "overflow": null,
            "overflow_x": null,
            "overflow_y": null,
            "padding": null,
            "right": null,
            "top": null,
            "visibility": null,
            "width": null
          }
        },
        "3a04dd227a8d4617b14e1975e880f473": {
          "model_module": "@jupyter-widgets/base",
          "model_name": "LayoutModel",
          "model_module_version": "1.2.0",
          "state": {
            "_model_module": "@jupyter-widgets/base",
            "_model_module_version": "1.2.0",
            "_model_name": "LayoutModel",
            "_view_count": null,
            "_view_module": "@jupyter-widgets/base",
            "_view_module_version": "1.2.0",
            "_view_name": "LayoutView",
            "align_content": null,
            "align_items": null,
            "align_self": null,
            "border": null,
            "bottom": null,
            "display": null,
            "flex": null,
            "flex_flow": null,
            "grid_area": null,
            "grid_auto_columns": null,
            "grid_auto_flow": null,
            "grid_auto_rows": null,
            "grid_column": null,
            "grid_gap": null,
            "grid_row": null,
            "grid_template_areas": null,
            "grid_template_columns": null,
            "grid_template_rows": null,
            "height": null,
            "justify_content": null,
            "justify_items": null,
            "left": null,
            "margin": null,
            "max_height": null,
            "max_width": null,
            "min_height": null,
            "min_width": null,
            "object_fit": null,
            "object_position": null,
            "order": null,
            "overflow": null,
            "overflow_x": null,
            "overflow_y": null,
            "padding": null,
            "right": null,
            "top": null,
            "visibility": null,
            "width": null
          }
        },
        "4ba0256d759a4a039db9dd79b493ef4f": {
          "model_module": "@jupyter-widgets/controls",
          "model_name": "DescriptionStyleModel",
          "model_module_version": "1.5.0",
          "state": {
            "_model_module": "@jupyter-widgets/controls",
            "_model_module_version": "1.5.0",
            "_model_name": "DescriptionStyleModel",
            "_view_count": null,
            "_view_module": "@jupyter-widgets/base",
            "_view_module_version": "1.2.0",
            "_view_name": "StyleView",
            "description_width": ""
          }
        },
        "5c04279023a64734915668b38fd7f142": {
          "model_module": "@jupyter-widgets/base",
          "model_name": "LayoutModel",
          "model_module_version": "1.2.0",
          "state": {
            "_model_module": "@jupyter-widgets/base",
            "_model_module_version": "1.2.0",
            "_model_name": "LayoutModel",
            "_view_count": null,
            "_view_module": "@jupyter-widgets/base",
            "_view_module_version": "1.2.0",
            "_view_name": "LayoutView",
            "align_content": null,
            "align_items": null,
            "align_self": null,
            "border": null,
            "bottom": null,
            "display": null,
            "flex": null,
            "flex_flow": null,
            "grid_area": null,
            "grid_auto_columns": null,
            "grid_auto_flow": null,
            "grid_auto_rows": null,
            "grid_column": null,
            "grid_gap": null,
            "grid_row": null,
            "grid_template_areas": null,
            "grid_template_columns": null,
            "grid_template_rows": null,
            "height": null,
            "justify_content": null,
            "justify_items": null,
            "left": null,
            "margin": null,
            "max_height": null,
            "max_width": null,
            "min_height": null,
            "min_width": null,
            "object_fit": null,
            "object_position": null,
            "order": null,
            "overflow": null,
            "overflow_x": null,
            "overflow_y": null,
            "padding": null,
            "right": null,
            "top": null,
            "visibility": null,
            "width": null
          }
        },
        "d220443e21904e2cb7e4ef228962070a": {
          "model_module": "@jupyter-widgets/controls",
          "model_name": "ProgressStyleModel",
          "model_module_version": "1.5.0",
          "state": {
            "_model_module": "@jupyter-widgets/controls",
            "_model_module_version": "1.5.0",
            "_model_name": "ProgressStyleModel",
            "_view_count": null,
            "_view_module": "@jupyter-widgets/base",
            "_view_module_version": "1.2.0",
            "_view_name": "StyleView",
            "bar_color": null,
            "description_width": ""
          }
        },
        "2601536e53a94e81a876987554edfc75": {
          "model_module": "@jupyter-widgets/base",
          "model_name": "LayoutModel",
          "model_module_version": "1.2.0",
          "state": {
            "_model_module": "@jupyter-widgets/base",
            "_model_module_version": "1.2.0",
            "_model_name": "LayoutModel",
            "_view_count": null,
            "_view_module": "@jupyter-widgets/base",
            "_view_module_version": "1.2.0",
            "_view_name": "LayoutView",
            "align_content": null,
            "align_items": null,
            "align_self": null,
            "border": null,
            "bottom": null,
            "display": null,
            "flex": null,
            "flex_flow": null,
            "grid_area": null,
            "grid_auto_columns": null,
            "grid_auto_flow": null,
            "grid_auto_rows": null,
            "grid_column": null,
            "grid_gap": null,
            "grid_row": null,
            "grid_template_areas": null,
            "grid_template_columns": null,
            "grid_template_rows": null,
            "height": null,
            "justify_content": null,
            "justify_items": null,
            "left": null,
            "margin": null,
            "max_height": null,
            "max_width": null,
            "min_height": null,
            "min_width": null,
            "object_fit": null,
            "object_position": null,
            "order": null,
            "overflow": null,
            "overflow_x": null,
            "overflow_y": null,
            "padding": null,
            "right": null,
            "top": null,
            "visibility": null,
            "width": null
          }
        },
        "19a8a2a492a247de8f41682082e6f5e8": {
          "model_module": "@jupyter-widgets/controls",
          "model_name": "DescriptionStyleModel",
          "model_module_version": "1.5.0",
          "state": {
            "_model_module": "@jupyter-widgets/controls",
            "_model_module_version": "1.5.0",
            "_model_name": "DescriptionStyleModel",
            "_view_count": null,
            "_view_module": "@jupyter-widgets/base",
            "_view_module_version": "1.2.0",
            "_view_name": "StyleView",
            "description_width": ""
          }
        },
        "0dd2795c320040cea040277f8c0e5bba": {
          "model_module": "@jupyter-widgets/controls",
          "model_name": "HBoxModel",
          "model_module_version": "1.5.0",
          "state": {
            "_dom_classes": [],
            "_model_module": "@jupyter-widgets/controls",
            "_model_module_version": "1.5.0",
            "_model_name": "HBoxModel",
            "_view_count": null,
            "_view_module": "@jupyter-widgets/controls",
            "_view_module_version": "1.5.0",
            "_view_name": "HBoxView",
            "box_style": "",
            "children": [
              "IPY_MODEL_9af23aa3cede4cfaaaac0bdb5bd0adb9",
              "IPY_MODEL_3ca4b4ab03cd4898a1c36fbdb826a784",
              "IPY_MODEL_5a9174d246444a099e25fc30f892f745"
            ],
            "layout": "IPY_MODEL_4eca9d5aba104af2adc4192e3246a8fd"
          }
        },
        "9af23aa3cede4cfaaaac0bdb5bd0adb9": {
          "model_module": "@jupyter-widgets/controls",
          "model_name": "HTMLModel",
          "model_module_version": "1.5.0",
          "state": {
            "_dom_classes": [],
            "_model_module": "@jupyter-widgets/controls",
            "_model_module_version": "1.5.0",
            "_model_name": "HTMLModel",
            "_view_count": null,
            "_view_module": "@jupyter-widgets/controls",
            "_view_module_version": "1.5.0",
            "_view_name": "HTMLView",
            "description": "",
            "description_tooltip": null,
            "layout": "IPY_MODEL_8045b914c6bd45cab5e3de1b4ece40a4",
            "placeholder": "​",
            "style": "IPY_MODEL_912de1151d814f918e7637ad50876d8e",
            "value": "100%"
          }
        },
        "3ca4b4ab03cd4898a1c36fbdb826a784": {
          "model_module": "@jupyter-widgets/controls",
          "model_name": "FloatProgressModel",
          "model_module_version": "1.5.0",
          "state": {
            "_dom_classes": [],
            "_model_module": "@jupyter-widgets/controls",
            "_model_module_version": "1.5.0",
            "_model_name": "FloatProgressModel",
            "_view_count": null,
            "_view_module": "@jupyter-widgets/controls",
            "_view_module_version": "1.5.0",
            "_view_name": "ProgressView",
            "bar_style": "success",
            "description": "",
            "description_tooltip": null,
            "layout": "IPY_MODEL_e8c8a40c3cf04559984499b23b58560f",
            "max": 10000,
            "min": 0,
            "orientation": "horizontal",
            "style": "IPY_MODEL_d4d6d0400cf94f7695bdbc9bea43c186",
            "value": 10000
          }
        },
        "5a9174d246444a099e25fc30f892f745": {
          "model_module": "@jupyter-widgets/controls",
          "model_name": "HTMLModel",
          "model_module_version": "1.5.0",
          "state": {
            "_dom_classes": [],
            "_model_module": "@jupyter-widgets/controls",
            "_model_module_version": "1.5.0",
            "_model_name": "HTMLModel",
            "_view_count": null,
            "_view_module": "@jupyter-widgets/controls",
            "_view_module_version": "1.5.0",
            "_view_name": "HTMLView",
            "description": "",
            "description_tooltip": null,
            "layout": "IPY_MODEL_aeefc87e1a414e4584a704bcf01594be",
            "placeholder": "​",
            "style": "IPY_MODEL_e9d5b703ae5342c5bab022b59f4f3118",
            "value": " 10000/10000 [00:00&lt;00:00, 20375.31it/s]"
          }
        },
        "4eca9d5aba104af2adc4192e3246a8fd": {
          "model_module": "@jupyter-widgets/base",
          "model_name": "LayoutModel",
          "model_module_version": "1.2.0",
          "state": {
            "_model_module": "@jupyter-widgets/base",
            "_model_module_version": "1.2.0",
            "_model_name": "LayoutModel",
            "_view_count": null,
            "_view_module": "@jupyter-widgets/base",
            "_view_module_version": "1.2.0",
            "_view_name": "LayoutView",
            "align_content": null,
            "align_items": null,
            "align_self": null,
            "border": null,
            "bottom": null,
            "display": null,
            "flex": null,
            "flex_flow": null,
            "grid_area": null,
            "grid_auto_columns": null,
            "grid_auto_flow": null,
            "grid_auto_rows": null,
            "grid_column": null,
            "grid_gap": null,
            "grid_row": null,
            "grid_template_areas": null,
            "grid_template_columns": null,
            "grid_template_rows": null,
            "height": null,
            "justify_content": null,
            "justify_items": null,
            "left": null,
            "margin": null,
            "max_height": null,
            "max_width": null,
            "min_height": null,
            "min_width": null,
            "object_fit": null,
            "object_position": null,
            "order": null,
            "overflow": null,
            "overflow_x": null,
            "overflow_y": null,
            "padding": null,
            "right": null,
            "top": null,
            "visibility": null,
            "width": null
          }
        },
        "8045b914c6bd45cab5e3de1b4ece40a4": {
          "model_module": "@jupyter-widgets/base",
          "model_name": "LayoutModel",
          "model_module_version": "1.2.0",
          "state": {
            "_model_module": "@jupyter-widgets/base",
            "_model_module_version": "1.2.0",
            "_model_name": "LayoutModel",
            "_view_count": null,
            "_view_module": "@jupyter-widgets/base",
            "_view_module_version": "1.2.0",
            "_view_name": "LayoutView",
            "align_content": null,
            "align_items": null,
            "align_self": null,
            "border": null,
            "bottom": null,
            "display": null,
            "flex": null,
            "flex_flow": null,
            "grid_area": null,
            "grid_auto_columns": null,
            "grid_auto_flow": null,
            "grid_auto_rows": null,
            "grid_column": null,
            "grid_gap": null,
            "grid_row": null,
            "grid_template_areas": null,
            "grid_template_columns": null,
            "grid_template_rows": null,
            "height": null,
            "justify_content": null,
            "justify_items": null,
            "left": null,
            "margin": null,
            "max_height": null,
            "max_width": null,
            "min_height": null,
            "min_width": null,
            "object_fit": null,
            "object_position": null,
            "order": null,
            "overflow": null,
            "overflow_x": null,
            "overflow_y": null,
            "padding": null,
            "right": null,
            "top": null,
            "visibility": null,
            "width": null
          }
        },
        "912de1151d814f918e7637ad50876d8e": {
          "model_module": "@jupyter-widgets/controls",
          "model_name": "DescriptionStyleModel",
          "model_module_version": "1.5.0",
          "state": {
            "_model_module": "@jupyter-widgets/controls",
            "_model_module_version": "1.5.0",
            "_model_name": "DescriptionStyleModel",
            "_view_count": null,
            "_view_module": "@jupyter-widgets/base",
            "_view_module_version": "1.2.0",
            "_view_name": "StyleView",
            "description_width": ""
          }
        },
        "e8c8a40c3cf04559984499b23b58560f": {
          "model_module": "@jupyter-widgets/base",
          "model_name": "LayoutModel",
          "model_module_version": "1.2.0",
          "state": {
            "_model_module": "@jupyter-widgets/base",
            "_model_module_version": "1.2.0",
            "_model_name": "LayoutModel",
            "_view_count": null,
            "_view_module": "@jupyter-widgets/base",
            "_view_module_version": "1.2.0",
            "_view_name": "LayoutView",
            "align_content": null,
            "align_items": null,
            "align_self": null,
            "border": null,
            "bottom": null,
            "display": null,
            "flex": null,
            "flex_flow": null,
            "grid_area": null,
            "grid_auto_columns": null,
            "grid_auto_flow": null,
            "grid_auto_rows": null,
            "grid_column": null,
            "grid_gap": null,
            "grid_row": null,
            "grid_template_areas": null,
            "grid_template_columns": null,
            "grid_template_rows": null,
            "height": null,
            "justify_content": null,
            "justify_items": null,
            "left": null,
            "margin": null,
            "max_height": null,
            "max_width": null,
            "min_height": null,
            "min_width": null,
            "object_fit": null,
            "object_position": null,
            "order": null,
            "overflow": null,
            "overflow_x": null,
            "overflow_y": null,
            "padding": null,
            "right": null,
            "top": null,
            "visibility": null,
            "width": null
          }
        },
        "d4d6d0400cf94f7695bdbc9bea43c186": {
          "model_module": "@jupyter-widgets/controls",
          "model_name": "ProgressStyleModel",
          "model_module_version": "1.5.0",
          "state": {
            "_model_module": "@jupyter-widgets/controls",
            "_model_module_version": "1.5.0",
            "_model_name": "ProgressStyleModel",
            "_view_count": null,
            "_view_module": "@jupyter-widgets/base",
            "_view_module_version": "1.2.0",
            "_view_name": "StyleView",
            "bar_color": null,
            "description_width": ""
          }
        },
        "aeefc87e1a414e4584a704bcf01594be": {
          "model_module": "@jupyter-widgets/base",
          "model_name": "LayoutModel",
          "model_module_version": "1.2.0",
          "state": {
            "_model_module": "@jupyter-widgets/base",
            "_model_module_version": "1.2.0",
            "_model_name": "LayoutModel",
            "_view_count": null,
            "_view_module": "@jupyter-widgets/base",
            "_view_module_version": "1.2.0",
            "_view_name": "LayoutView",
            "align_content": null,
            "align_items": null,
            "align_self": null,
            "border": null,
            "bottom": null,
            "display": null,
            "flex": null,
            "flex_flow": null,
            "grid_area": null,
            "grid_auto_columns": null,
            "grid_auto_flow": null,
            "grid_auto_rows": null,
            "grid_column": null,
            "grid_gap": null,
            "grid_row": null,
            "grid_template_areas": null,
            "grid_template_columns": null,
            "grid_template_rows": null,
            "height": null,
            "justify_content": null,
            "justify_items": null,
            "left": null,
            "margin": null,
            "max_height": null,
            "max_width": null,
            "min_height": null,
            "min_width": null,
            "object_fit": null,
            "object_position": null,
            "order": null,
            "overflow": null,
            "overflow_x": null,
            "overflow_y": null,
            "padding": null,
            "right": null,
            "top": null,
            "visibility": null,
            "width": null
          }
        },
        "e9d5b703ae5342c5bab022b59f4f3118": {
          "model_module": "@jupyter-widgets/controls",
          "model_name": "DescriptionStyleModel",
          "model_module_version": "1.5.0",
          "state": {
            "_model_module": "@jupyter-widgets/controls",
            "_model_module_version": "1.5.0",
            "_model_name": "DescriptionStyleModel",
            "_view_count": null,
            "_view_module": "@jupyter-widgets/base",
            "_view_module_version": "1.2.0",
            "_view_name": "StyleView",
            "description_width": ""
          }
        }
      }
    }
  },
  "cells": [
    {
      "cell_type": "code",
      "execution_count": 18,
      "metadata": {
        "id": "dBhXDYU_VW7q"
      },
      "outputs": [],
      "source": [
        "from operator import mod\n",
        "import numpy as np\n",
        "import torch\n",
        "import torch.nn as nn\n",
        "import torchvision.transforms as transforms\n",
        "from datasets import load_dataset\n",
        "from tqdm.auto import tqdm\n"
      ]
    },
    {
      "cell_type": "code",
      "source": [
        "# %%\n",
        "dataset_train = load_dataset(\n",
        "    \"uoft-cs/cifar10\",\n",
        "    split=\"train\",  # training dataset\n",
        "    # trust_remote_code=true,\n",
        "    # ignore_verifications=true,  # set to true if seeing splits error\n",
        ")\n",
        "dataset_train\n"
      ],
      "metadata": {
        "colab": {
          "base_uri": "https://localhost:8080/"
        },
        "id": "ECSz8pMdWGsm",
        "outputId": "76f5698d-8254-4219-9b0b-dd788e960b1e"
      },
      "execution_count": 19,
      "outputs": [
        {
          "output_type": "execute_result",
          "data": {
            "text/plain": [
              "Dataset({\n",
              "    features: ['img', 'label'],\n",
              "    num_rows: 50000\n",
              "})"
            ]
          },
          "metadata": {},
          "execution_count": 19
        }
      ]
    },
    {
      "cell_type": "code",
      "source": [
        "# %%\n",
        "dataset_val = load_dataset(\"uoft-cs/cifar10\", split=\"test\")\n",
        "print(dataset_val)\n"
      ],
      "metadata": {
        "colab": {
          "base_uri": "https://localhost:8080/"
        },
        "id": "g3bcUgkKWZna",
        "outputId": "e670c8b5-bc53-4b2d-cbfc-ed15f2b9cbe0"
      },
      "execution_count": 20,
      "outputs": [
        {
          "output_type": "stream",
          "name": "stdout",
          "text": [
            "Dataset({\n",
            "    features: ['img', 'label'],\n",
            "    num_rows: 10000\n",
            "})\n"
          ]
        }
      ]
    },
    {
      "cell_type": "code",
      "source": [
        "# %%\n",
        "print(set(dataset_train[\"label\"]))\n",
        "print(dataset_train[0][\"img\"])\n",
        "print(dataset_train[0][\"img\"].size)  # gotta convert all to 32, 32\n",
        "print(dataset_train[0][\"img\"].mode)  # gotta convert all to RGB channels\n"
      ],
      "metadata": {
        "colab": {
          "base_uri": "https://localhost:8080/"
        },
        "id": "SHXvaAoiWd8q",
        "outputId": "5ed4a44a-9f39-4fd1-b3af-6883a9d4f395"
      },
      "execution_count": 21,
      "outputs": [
        {
          "output_type": "stream",
          "name": "stdout",
          "text": [
            "{0, 1, 2, 3, 4, 5, 6, 7, 8, 9}\n",
            "<PIL.PngImagePlugin.PngImageFile image mode=RGB size=32x32 at 0x7995FE95E810>\n",
            "(32, 32)\n",
            "RGB\n"
          ]
        }
      ]
    },
    {
      "cell_type": "code",
      "source": [
        "# %%\n",
        "preprocess = transforms.Compose(  # same process for training + validation data\n",
        "    [\n",
        "        transforms.Resize((32, 32)),\n",
        "        transforms.ToTensor(),  # gives [0, 1] values\n",
        "    ]\n",
        ")\n"
      ],
      "metadata": {
        "id": "aR5ntaG5WhmM"
      },
      "execution_count": 22,
      "outputs": []
    },
    {
      "cell_type": "code",
      "source": [
        "# %%\n",
        "inputs_train = []\n",
        "for record in tqdm(dataset_train):\n",
        "    img = record[\"img\"]\n",
        "    lbl = record[\"label\"]\n",
        "    # print(lbl)\n",
        "    if img.mode == \"L\":\n",
        "        # print(\"one\")\n",
        "        img = img.convert(\"RGB\")\n",
        "    tensor = preprocess(img)\n",
        "    inputs_train.append([tensor, lbl])\n",
        "print(len(inputs_train))\n",
        "print(inputs_train[0][0].shape)\n",
        "print(inputs_train[0])\n"
      ],
      "metadata": {
        "colab": {
          "base_uri": "https://localhost:8080/",
          "height": 483,
          "referenced_widgets": [
            "666ee1fb7c414381bf6b2f136bc00262",
            "42ba397c746b47e88c42a45b44559586",
            "91373db5c9b54587ac247fbb9d427b75",
            "1ade7b182f594848a8782ac107c972b2",
            "26bb9d31b41a4d118921e5a814b2c763",
            "e352e186cdd7409ab8dbf4462eb952f6",
            "8457f04e2ef04089acc0f83632574dad",
            "91f119041c454cc5a7eb32c64b6de06f",
            "ebcf3728bca54163a090f895393c49ee",
            "512be49a423545b1a84f574c7dd4390b",
            "dc9036d641d7433aa4e4171e3b5c522c"
          ]
        },
        "id": "zOAdR48PWmY8",
        "outputId": "331a201e-f66a-43ec-f0dc-f4195ab29d48"
      },
      "execution_count": 23,
      "outputs": [
        {
          "output_type": "display_data",
          "data": {
            "text/plain": [
              "  0%|          | 0/50000 [00:00<?, ?it/s]"
            ],
            "application/vnd.jupyter.widget-view+json": {
              "version_major": 2,
              "version_minor": 0,
              "model_id": "666ee1fb7c414381bf6b2f136bc00262"
            }
          },
          "metadata": {}
        },
        {
          "output_type": "stream",
          "name": "stdout",
          "text": [
            "50000\n",
            "torch.Size([3, 32, 32])\n",
            "[tensor([[[0.6980, 0.6980, 0.6980,  ..., 0.6667, 0.6588, 0.6471],\n",
            "         [0.7059, 0.7020, 0.7059,  ..., 0.6784, 0.6706, 0.6588],\n",
            "         [0.6941, 0.6941, 0.6980,  ..., 0.6706, 0.6627, 0.6549],\n",
            "         ...,\n",
            "         [0.4392, 0.4431, 0.4471,  ..., 0.3922, 0.3843, 0.3961],\n",
            "         [0.4392, 0.4392, 0.4431,  ..., 0.4000, 0.4000, 0.4000],\n",
            "         [0.4039, 0.3922, 0.4039,  ..., 0.3608, 0.3647, 0.3569]],\n",
            "\n",
            "        [[0.6902, 0.6902, 0.6902,  ..., 0.6588, 0.6510, 0.6392],\n",
            "         [0.6980, 0.6941, 0.6980,  ..., 0.6706, 0.6627, 0.6510],\n",
            "         [0.6863, 0.6863, 0.6902,  ..., 0.6627, 0.6549, 0.6471],\n",
            "         ...,\n",
            "         [0.4196, 0.4275, 0.4314,  ..., 0.3804, 0.3686, 0.3725],\n",
            "         [0.4000, 0.4039, 0.4039,  ..., 0.3725, 0.3647, 0.3608],\n",
            "         [0.3765, 0.3647, 0.3725,  ..., 0.3294, 0.3373, 0.3294]],\n",
            "\n",
            "        [[0.7412, 0.7412, 0.7412,  ..., 0.7059, 0.6941, 0.6824],\n",
            "         [0.7490, 0.7451, 0.7490,  ..., 0.7137, 0.7059, 0.6941],\n",
            "         [0.7373, 0.7373, 0.7412,  ..., 0.7059, 0.6980, 0.6902],\n",
            "         ...,\n",
            "         [0.4196, 0.4235, 0.4314,  ..., 0.3686, 0.3647, 0.3725],\n",
            "         [0.3961, 0.4000, 0.4039,  ..., 0.3647, 0.3569, 0.3569],\n",
            "         [0.3608, 0.3529, 0.3686,  ..., 0.3137, 0.3137, 0.3020]]]), 0]\n"
          ]
        }
      ]
    },
    {
      "cell_type": "code",
      "source": [
        "# %%\n",
        "inputs_val = []\n",
        "for record in tqdm(dataset_val):\n",
        "    img = record[\"img\"]\n",
        "    lbl = record[\"label\"]\n",
        "    # print(lbl)\n",
        "    if img.mode == \"L\":\n",
        "        # print(\"one\")\n",
        "        img = img.convert(\"RGB\")\n",
        "    tensor = preprocess(img)\n",
        "    inputs_val.append([tensor, lbl])\n",
        "print(inputs_val[0][0].shape)\n",
        "print(len(inputs_val))\n",
        "print(inputs_val[0])\n"
      ],
      "metadata": {
        "colab": {
          "base_uri": "https://localhost:8080/",
          "height": 483,
          "referenced_widgets": [
            "9f336404316d46d0bb360655e5314a74",
            "bf51154c8abc490495df2a8269c0baec",
            "513dc98e715f4c99b2a87758ea7caf01",
            "39b2e8b95ad042cfb1a1eb682573fa0f",
            "5e8077784dd743eb95f15d20b580e644",
            "34c28c39ab00423db1af2bcbf5d12f31",
            "d3c3e7fbc2a14db59b06d3028b41d3b6",
            "ef4d753a4e2140bda2b614af0050d4d5",
            "5d717bde27f341d68cbaa425af8ad9c1",
            "cb1f0ff2d56d4ed5927f17f08789be7f",
            "101dec42a0bb45f79d9e0448cdf76798"
          ]
        },
        "id": "cEo436NfWqS4",
        "outputId": "4dbef7f2-3845-4dd5-d359-053d285c06f8"
      },
      "execution_count": 24,
      "outputs": [
        {
          "output_type": "display_data",
          "data": {
            "text/plain": [
              "  0%|          | 0/10000 [00:00<?, ?it/s]"
            ],
            "application/vnd.jupyter.widget-view+json": {
              "version_major": 2,
              "version_minor": 0,
              "model_id": "9f336404316d46d0bb360655e5314a74"
            }
          },
          "metadata": {}
        },
        {
          "output_type": "stream",
          "name": "stdout",
          "text": [
            "torch.Size([3, 32, 32])\n",
            "10000\n",
            "[tensor([[[0.6196, 0.6235, 0.6471,  ..., 0.5373, 0.4941, 0.4549],\n",
            "         [0.5961, 0.5922, 0.6235,  ..., 0.5333, 0.4902, 0.4667],\n",
            "         [0.5922, 0.5922, 0.6196,  ..., 0.5451, 0.5098, 0.4706],\n",
            "         ...,\n",
            "         [0.2667, 0.1647, 0.1216,  ..., 0.1490, 0.0510, 0.1569],\n",
            "         [0.2392, 0.1922, 0.1373,  ..., 0.1020, 0.1137, 0.0784],\n",
            "         [0.2118, 0.2196, 0.1765,  ..., 0.0941, 0.1333, 0.0824]],\n",
            "\n",
            "        [[0.4392, 0.4353, 0.4549,  ..., 0.3725, 0.3569, 0.3333],\n",
            "         [0.4392, 0.4314, 0.4471,  ..., 0.3725, 0.3569, 0.3451],\n",
            "         [0.4314, 0.4275, 0.4353,  ..., 0.3843, 0.3725, 0.3490],\n",
            "         ...,\n",
            "         [0.4863, 0.3922, 0.3451,  ..., 0.3804, 0.2510, 0.3333],\n",
            "         [0.4549, 0.4000, 0.3333,  ..., 0.3216, 0.3216, 0.2510],\n",
            "         [0.4196, 0.4118, 0.3490,  ..., 0.3020, 0.3294, 0.2627]],\n",
            "\n",
            "        [[0.1922, 0.1843, 0.2000,  ..., 0.1412, 0.1412, 0.1294],\n",
            "         [0.2000, 0.1569, 0.1765,  ..., 0.1216, 0.1255, 0.1333],\n",
            "         [0.1843, 0.1294, 0.1412,  ..., 0.1333, 0.1333, 0.1294],\n",
            "         ...,\n",
            "         [0.6941, 0.5804, 0.5373,  ..., 0.5725, 0.4235, 0.4980],\n",
            "         [0.6588, 0.5804, 0.5176,  ..., 0.5098, 0.4941, 0.4196],\n",
            "         [0.6275, 0.5843, 0.5176,  ..., 0.4863, 0.5059, 0.4314]]]), 3]\n"
          ]
        }
      ]
    },
    {
      "cell_type": "code",
      "source": [
        "# %%\n",
        "def get_mean_and_std(sampels_list):\n",
        "    np.random.seed(0)\n",
        "    # getting a random sample\n",
        "    idx = np.random.randint(0, len(sampels_list), 2048)  # 2048 indexes from 5k\n",
        "    # print(idx)\n",
        "    tensor = torch.concat([inputs_train[i][0] for i in idx], axis=1)\n",
        "    # print(tensor.shape) #for each channel, 65k pixel line x 32 columns\n",
        "    tensor = tensor.swapaxes(0, 1).reshape(3, -1).T\n",
        "    # print(tensor.shape)\n",
        "    # print(tensor)# each column is a channel, so get its mean + std\n",
        "    mean = torch.mean(tensor, axis=0)\n",
        "    std = torch.std(tensor, axis=0)\n",
        "    # print(mean)\n",
        "    # print(std)\n",
        "    del tensor\n",
        "    return mean, std\n",
        "mean, std = get_mean_and_std(inputs_train)\n",
        "print(mean)\n",
        "print(std)\n"
      ],
      "metadata": {
        "colab": {
          "base_uri": "https://localhost:8080/"
        },
        "id": "AidpN1hhWxCg",
        "outputId": "1bec5cf5-14c3-40ff-8030-fe2e6939dadc"
      },
      "execution_count": 25,
      "outputs": [
        {
          "output_type": "stream",
          "name": "stdout",
          "text": [
            "tensor([0.4700, 0.4740, 0.4749])\n",
            "tensor([0.2485, 0.2502, 0.2537])\n"
          ]
        }
      ]
    },
    {
      "cell_type": "code",
      "source": [
        "# %%\n",
        "preprocess = transforms.Compose([transforms.Normalize(mean=mean, std=std)])\n",
        "# preprocess_val = transforms.Compose([transforms.Normalize(mean=mean_v, std=std_v)])\n"
      ],
      "metadata": {
        "id": "uOSXFYNXW1hK"
      },
      "execution_count": 26,
      "outputs": []
    },
    {
      "cell_type": "code",
      "source": [
        "# %%\n",
        "for i in tqdm(range(len(inputs_train))):\n",
        "    tensor = preprocess(inputs_train[i][0])\n",
        "    inputs_train[i][0] = tensor\n",
        "inputs_train[0][0]\n"
      ],
      "metadata": {
        "colab": {
          "base_uri": "https://localhost:8080/",
          "height": 448,
          "referenced_widgets": [
            "e5ecb0c4d76f458f98f01d66b1da4dbf",
            "0402a646c4f749229124341592f6a455",
            "d61d6b1cab394d91a8e4e29b32c4f574",
            "24291f653b5641febd8cc5a8b12457f6",
            "5be07133b891450481d30db4cd4e492c",
            "3a04dd227a8d4617b14e1975e880f473",
            "4ba0256d759a4a039db9dd79b493ef4f",
            "5c04279023a64734915668b38fd7f142",
            "d220443e21904e2cb7e4ef228962070a",
            "2601536e53a94e81a876987554edfc75",
            "19a8a2a492a247de8f41682082e6f5e8"
          ]
        },
        "id": "ABkaH5w1W5EN",
        "outputId": "7026c689-503f-4939-a73c-c73e8a3fb435"
      },
      "execution_count": 27,
      "outputs": [
        {
          "output_type": "display_data",
          "data": {
            "text/plain": [
              "  0%|          | 0/50000 [00:00<?, ?it/s]"
            ],
            "application/vnd.jupyter.widget-view+json": {
              "version_major": 2,
              "version_minor": 0,
              "model_id": "e5ecb0c4d76f458f98f01d66b1da4dbf"
            }
          },
          "metadata": {}
        },
        {
          "output_type": "execute_result",
          "data": {
            "text/plain": [
              "tensor([[[ 0.9176,  0.9176,  0.9176,  ...,  0.7914,  0.7598,  0.7125],\n",
              "         [ 0.9492,  0.9334,  0.9492,  ...,  0.8387,  0.8072,  0.7598],\n",
              "         [ 0.9019,  0.9019,  0.9176,  ...,  0.8072,  0.7756,  0.7440],\n",
              "         ...,\n",
              "         [-0.1240, -0.1083, -0.0925,  ..., -0.3134, -0.3450, -0.2977],\n",
              "         [-0.1240, -0.1240, -0.1083,  ..., -0.2819, -0.2819, -0.2819],\n",
              "         [-0.2661, -0.3134, -0.2661,  ..., -0.4397, -0.4239, -0.4555]],\n",
              "\n",
              "        [[ 0.8640,  0.8640,  0.8640,  ...,  0.7386,  0.7073,  0.6602],\n",
              "         [ 0.8954,  0.8797,  0.8954,  ...,  0.7856,  0.7543,  0.7073],\n",
              "         [ 0.8483,  0.8483,  0.8640,  ...,  0.7543,  0.7229,  0.6916],\n",
              "         ...,\n",
              "         [-0.2175, -0.1862, -0.1705,  ..., -0.3743, -0.4213, -0.4056],\n",
              "         [-0.2959, -0.2802, -0.2802,  ..., -0.4056, -0.4370, -0.4527],\n",
              "         [-0.3900, -0.4370, -0.4056,  ..., -0.5780, -0.5467, -0.5780]],\n",
              "\n",
              "        [[ 1.0498,  1.0498,  1.0498,  ...,  0.9106,  0.8643,  0.8179],\n",
              "         [ 1.0807,  1.0652,  1.0807,  ...,  0.9416,  0.9106,  0.8643],\n",
              "         [ 1.0343,  1.0343,  1.0498,  ...,  0.9106,  0.8797,  0.8488],\n",
              "         ...,\n",
              "         [-0.2179, -0.2024, -0.1715,  ..., -0.4189, -0.4343, -0.4034],\n",
              "         [-0.3106, -0.2952, -0.2797,  ..., -0.4343, -0.4652, -0.4652],\n",
              "         [-0.4498, -0.4807, -0.4189,  ..., -0.6353, -0.6353, -0.6817]]])"
            ]
          },
          "metadata": {},
          "execution_count": 27
        }
      ]
    },
    {
      "cell_type": "code",
      "source": [
        "# %%\n",
        "for i in tqdm(range(len(inputs_val))):\n",
        "    tensor = preprocess(inputs_val[i][0])\n",
        "    inputs_val[i][0] = tensor\n",
        "inputs_val[0][0]\n"
      ],
      "metadata": {
        "colab": {
          "base_uri": "https://localhost:8080/",
          "height": 448,
          "referenced_widgets": [
            "0dd2795c320040cea040277f8c0e5bba",
            "9af23aa3cede4cfaaaac0bdb5bd0adb9",
            "3ca4b4ab03cd4898a1c36fbdb826a784",
            "5a9174d246444a099e25fc30f892f745",
            "4eca9d5aba104af2adc4192e3246a8fd",
            "8045b914c6bd45cab5e3de1b4ece40a4",
            "912de1151d814f918e7637ad50876d8e",
            "e8c8a40c3cf04559984499b23b58560f",
            "d4d6d0400cf94f7695bdbc9bea43c186",
            "aeefc87e1a414e4584a704bcf01594be",
            "e9d5b703ae5342c5bab022b59f4f3118"
          ]
        },
        "id": "LNBQ1wAKW8-m",
        "outputId": "a92be18c-4d99-4e43-adfe-2f1410fbdd19"
      },
      "execution_count": 28,
      "outputs": [
        {
          "output_type": "display_data",
          "data": {
            "text/plain": [
              "  0%|          | 0/10000 [00:00<?, ?it/s]"
            ],
            "application/vnd.jupyter.widget-view+json": {
              "version_major": 2,
              "version_minor": 0,
              "model_id": "0dd2795c320040cea040277f8c0e5bba"
            }
          },
          "metadata": {}
        },
        {
          "output_type": "execute_result",
          "data": {
            "text/plain": [
              "tensor([[[ 0.6020,  0.6178,  0.7125,  ...,  0.2705,  0.0969, -0.0609],\n",
              "         [ 0.5073,  0.4915,  0.6178,  ...,  0.2548,  0.0811, -0.0136],\n",
              "         [ 0.4915,  0.4915,  0.6020,  ...,  0.3021,  0.1601,  0.0022],\n",
              "         ...,\n",
              "         [-0.8185, -1.2289, -1.4025,  ..., -1.2920, -1.6866, -1.2604],\n",
              "         [-0.9290, -1.1184, -1.3394,  ..., -1.4814, -1.4341, -1.5761],\n",
              "         [-1.0395, -1.0079, -1.1815,  ..., -1.5130, -1.3551, -1.5603]],\n",
              "\n",
              "        [[-0.1392, -0.1548, -0.0765,  ..., -0.4056, -0.4683, -0.5624],\n",
              "         [-0.1392, -0.1705, -0.1078,  ..., -0.4056, -0.4683, -0.5154],\n",
              "         [-0.1705, -0.1862, -0.1548,  ..., -0.3586, -0.4056, -0.4997],\n",
              "         ...,\n",
              "         [ 0.0489, -0.3273, -0.5154,  ..., -0.3743, -0.8915, -0.5624],\n",
              "         [-0.0765, -0.2959, -0.5624,  ..., -0.6094, -0.6094, -0.8915],\n",
              "         [-0.2175, -0.2489, -0.4997,  ..., -0.6878, -0.5780, -0.8445]],\n",
              "\n",
              "        [[-1.1145, -1.1454, -1.0836,  ..., -1.3155, -1.3155, -1.3619],\n",
              "         [-1.0836, -1.2537, -1.1764,  ..., -1.3928, -1.3773, -1.3464],\n",
              "         [-1.1454, -1.3619, -1.3155,  ..., -1.3464, -1.3464, -1.3619],\n",
              "         ...,\n",
              "         [ 0.8643,  0.4159,  0.2459,  ...,  0.3850, -0.2024,  0.0913],\n",
              "         [ 0.7251,  0.4159,  0.1686,  ...,  0.1377,  0.0758, -0.2179],\n",
              "         [ 0.6015,  0.4314,  0.1686,  ...,  0.0449,  0.1222, -0.1715]]])"
            ]
          },
          "metadata": {},
          "execution_count": 28
        }
      ]
    },
    {
      "cell_type": "code",
      "source": [
        "# %%\n",
        "batch_size = 64\n",
        "train_loader = torch.utils.data.DataLoader(\n",
        "    inputs_train, batch_size=batch_size, shuffle=True\n",
        ")\n",
        "val_loader = torch.utils.data.DataLoader(\n",
        "    inputs_val, batch_size=batch_size, shuffle=True\n",
        ")\n"
      ],
      "metadata": {
        "id": "CACcD1B3XAtR"
      },
      "execution_count": 29,
      "outputs": []
    },
    {
      "cell_type": "code",
      "source": [
        "# %%\n",
        "for batch_images, batch_labels in val_loader:\n",
        "    print(f\"Batch shape: {batch_images.shape}, Labels: {batch_labels}\")\n",
        "    break\n",
        "for batch_images, batch_labels in train_loader:\n",
        "    print(f\"Batch shape: {batch_images.shape}, Labels: {batch_labels}\")\n",
        "    break\n"
      ],
      "metadata": {
        "colab": {
          "base_uri": "https://localhost:8080/"
        },
        "id": "uWHN_nc-XEML",
        "outputId": "0d3d05d8-c763-4218-b3b7-4561847df63a"
      },
      "execution_count": 30,
      "outputs": [
        {
          "output_type": "stream",
          "name": "stdout",
          "text": [
            "Batch shape: torch.Size([64, 3, 32, 32]), Labels: tensor([8, 9, 8, 4, 2, 2, 4, 4, 8, 9, 9, 2, 6, 2, 2, 2, 2, 0, 1, 3, 1, 0, 6, 2,\n",
            "        3, 5, 3, 6, 9, 4, 5, 3, 5, 2, 2, 6, 7, 9, 3, 9, 9, 3, 6, 7, 8, 8, 7, 2,\n",
            "        1, 8, 4, 8, 0, 4, 6, 6, 2, 3, 3, 4, 3, 9, 5, 4])\n",
            "Batch shape: torch.Size([64, 3, 32, 32]), Labels: tensor([4, 5, 3, 5, 4, 9, 5, 1, 9, 2, 1, 4, 1, 8, 4, 5, 6, 8, 3, 3, 7, 1, 0, 4,\n",
            "        3, 1, 0, 1, 6, 0, 1, 2, 2, 0, 4, 1, 8, 7, 5, 4, 0, 8, 3, 5, 4, 1, 8, 4,\n",
            "        6, 5, 2, 5, 9, 0, 2, 7, 6, 5, 7, 5, 8, 3, 6, 3])\n"
          ]
        }
      ]
    },
    {
      "cell_type": "code",
      "source": [
        "# %%\n",
        "# Data is ready, now contruct CNN architecture\n",
        "device = torch.device(\"cuda\" if torch.cuda.is_available() else \"cpu\")\n",
        "print(device)\n"
      ],
      "metadata": {
        "colab": {
          "base_uri": "https://localhost:8080/"
        },
        "id": "fO8MPQFKXHPx",
        "outputId": "d40fd452-ced3-4a60-98c1-9dce47ed1978"
      },
      "execution_count": 31,
      "outputs": [
        {
          "output_type": "stream",
          "name": "stdout",
          "text": [
            "cuda\n"
          ]
        }
      ]
    },
    {
      "cell_type": "code",
      "source": [
        "# %%\n",
        "class ConvNeuralNet(nn.Module):\n",
        "    def __init__(self, num_classes):\n",
        "        super(ConvNeuralNet, self).__init__()\n",
        "        # 1st; basic paterns, lines/edges...\n",
        "        self.conv1 = nn.Conv2d(in_channels=3, out_channels=64, kernel_size=4, padding=1)\n",
        "        self.relu1 = nn.ReLU()\n",
        "        self.max_pool1 = nn.MaxPool2d(kernel_size=3, stride=2)\n",
        "        # 2nd: basic shapes, corners...\n",
        "        self.conv2 = nn.Conv2d(\n",
        "            in_channels=64, out_channels=192, kernel_size=4, padding=1\n",
        "        )\n",
        "        self.relu2 = nn.ReLU()\n",
        "        self.max_pool2 = nn.MaxPool2d(kernel_size=3, stride=2)\n",
        "        # 3rd; more complex shapes, squares, circles...\n",
        "        # + beginnig of deep stacking conv layers before pooling\n",
        "        self.conv3 = nn.Conv2d(\n",
        "            in_channels=192, out_channels=384, kernel_size=3, padding=1\n",
        "        )\n",
        "        self.relu3 = nn.ReLU()\n",
        "        # 4th: recognizing component of objects, like wheels...\n",
        "        # + NN plateus after reaching max channels\n",
        "        self.conv4 = nn.Conv2d(\n",
        "            in_channels=384, out_channels=256, kernel_size=3, padding=1\n",
        "        )\n",
        "        self.relu4 = nn.ReLU()\n",
        "        # 5th; recognizing full objects based on what components theyre made of\n",
        "        self.conv5 = nn.Conv2d(\n",
        "            in_channels=256, out_channels=256, kernel_size=3, padding=1\n",
        "        )\n",
        "        self.relu5 = nn.ReLU()\n",
        "        self.max_pool5 = nn.MaxPool2d(kernel_size=3, stride=2)\n",
        "        # now smooth gradual reduction 1024-512-256-10\n",
        "        # with Dropout to avoid overfitting\n",
        "        self.dropout6 = nn.Dropout(p=0.5)\n",
        "        self.fc6 = nn.Linear(1024, 512)\n",
        "        self.relu6 = nn.ReLU()\n",
        "        self.dropout7 = nn.Dropout(p=0.5)\n",
        "        self.fc7 = nn.Linear(512, 256)\n",
        "        self.relu7 = nn.ReLU()\n",
        "        self.fc8 = nn.Linear(256, num_classes)\n",
        "\n",
        "    # now the forward method\n",
        "    def forward(self, x):\n",
        "        # 1st conv bloc\n",
        "        out = self.conv1(x)\n",
        "        out = self.relu1(out)\n",
        "        out = self.max_pool1(out)\n",
        "        # 2nd conv bloc\n",
        "        out = self.conv2(out)\n",
        "        out = self.relu2(out)\n",
        "        out = self.max_pool2(out)\n",
        "        # 3rd conv bloc (deep stack)\n",
        "        out = self.conv3(out)\n",
        "        out = self.relu3(out)\n",
        "        # 4th conv bloc\n",
        "        out = self.conv4(out)\n",
        "        out = self.relu4(out)\n",
        "        # 5th conv bloc\n",
        "        out = self.conv5(out)\n",
        "        out = self.relu5(out)\n",
        "        out = self.max_pool5(out)\n",
        "        # reshaping\n",
        "        out = out.reshape(out.size(0), -1)\n",
        "        # fc layer: 1024 -> 512\n",
        "        out = self.dropout6(out)\n",
        "        out = self.fc6(out)\n",
        "        out = self.relu6(out)\n",
        "        # fc layer: 512 -> 256\n",
        "        out = self.dropout7(out)\n",
        "        out = self.fc7(out)\n",
        "        out = self.relu7(out)\n",
        "        # final fc layer\n",
        "        out = self.fc8(out)\n",
        "        return out\n",
        "\n"
      ],
      "metadata": {
        "id": "ufxn6RVEXMyY"
      },
      "execution_count": 32,
      "outputs": []
    },
    {
      "cell_type": "code",
      "source": [
        "# %%\n",
        "model = ConvNeuralNet(num_classes=10).to(device)\n",
        "# Loss function\n",
        "loss_func = nn.CrossEntropyLoss()\n",
        "# Optimizer: Stochastic gradient, with .008 as LR\n",
        "optimizer = torch.optim.SGD(model.parameters(), lr=0.008)\n"
      ],
      "metadata": {
        "id": "jLa9Lj6JXRuf"
      },
      "execution_count": 33,
      "outputs": []
    },
    {
      "cell_type": "code",
      "source": [
        "# %%\n",
        "epochs = 50\n",
        "for epoch in range(epochs):\n",
        "    model.train()\n",
        "    for i, (imgs, lables) in enumerate(train_loader):\n",
        "        imgs = imgs.to(device)\n",
        "        lables = lables.to(device)\n",
        "        # forward propg\n",
        "        outputs = model(imgs)\n",
        "        loss = loss_func(outputs, lables)\n",
        "        # back propg\n",
        "        optimizer.zero_grad()\n",
        "        loss.backward()  # get gradients\n",
        "        optimizer.step()  # update weights\n",
        "    # testing on validation set after each epoch\n",
        "    with torch.no_grad():\n",
        "        model.eval()\n",
        "        corrct = 0\n",
        "        total = 0\n",
        "        loss_history = []\n",
        "        for imgs, labels in val_loader:\n",
        "            imgs = imgs.to(device)\n",
        "            labels = labels.to(device)\n",
        "            outputs = model(imgs)\n",
        "            predected = torch.argmax(outputs, dim=1)\n",
        "            total += labels.size(0)\n",
        "            #\n",
        "            corrct += (predected == labels).sum().item()\n",
        "            loss_history.append(loss_func(outputs, labels).item())\n",
        "        #\n",
        "        mean_acc = 100 * (corrct / total)\n",
        "        #\n",
        "        mean_loss = sum(loss_history) / len(loss_history)\n",
        "    print(\n",
        "        \"Epoch [{}/{}], Loss: {:.4f}, Val-loss: {:.4f}, Val-acc: {:.1f}%\".format(\n",
        "            epoch + 1, epochs, loss.item(), mean_loss, mean_acc\n",
        "        )\n",
        "    )\n",
        "torch.save(model, \"classic_cnn.pt\")\n",
        "\n"
      ],
      "metadata": {
        "colab": {
          "base_uri": "https://localhost:8080/"
        },
        "id": "gjj0UcdbXWX9",
        "outputId": "e5991696-64d3-4295-8a0a-62143bd5f677"
      },
      "execution_count": 34,
      "outputs": [
        {
          "output_type": "stream",
          "name": "stdout",
          "text": [
            "Epoch [1/50], Loss: 2.3029, Val-loss: 2.3010, Val-acc: 10.0%\n",
            "Epoch [2/50], Loss: 2.2944, Val-loss: 2.2833, Val-acc: 15.4%\n",
            "Epoch [3/50], Loss: 2.1526, Val-loss: 1.9769, Val-acc: 22.7%\n",
            "Epoch [4/50], Loss: 2.0852, Val-loss: 1.8828, Val-acc: 24.5%\n",
            "Epoch [5/50], Loss: 1.7026, Val-loss: 1.8570, Val-acc: 25.0%\n",
            "Epoch [6/50], Loss: 1.7021, Val-loss: 1.9755, Val-acc: 27.1%\n",
            "Epoch [7/50], Loss: 2.0124, Val-loss: 1.9463, Val-acc: 28.0%\n",
            "Epoch [8/50], Loss: 1.6346, Val-loss: 1.6316, Val-acc: 35.8%\n",
            "Epoch [9/50], Loss: 1.6083, Val-loss: 1.7212, Val-acc: 35.3%\n",
            "Epoch [10/50], Loss: 1.4705, Val-loss: 1.5057, Val-acc: 43.2%\n",
            "Epoch [11/50], Loss: 1.5041, Val-loss: 1.3071, Val-acc: 50.6%\n",
            "Epoch [12/50], Loss: 1.3368, Val-loss: 1.3130, Val-acc: 51.3%\n",
            "Epoch [13/50], Loss: 1.5563, Val-loss: 1.4767, Val-acc: 46.2%\n",
            "Epoch [14/50], Loss: 1.7228, Val-loss: 1.9783, Val-acc: 36.2%\n",
            "Epoch [15/50], Loss: 1.4024, Val-loss: 1.1766, Val-acc: 57.1%\n",
            "Epoch [16/50], Loss: 1.6117, Val-loss: 1.1084, Val-acc: 60.5%\n",
            "Epoch [17/50], Loss: 0.5112, Val-loss: 0.9809, Val-acc: 64.3%\n",
            "Epoch [18/50], Loss: 1.0165, Val-loss: 1.2866, Val-acc: 56.4%\n",
            "Epoch [19/50], Loss: 0.4137, Val-loss: 0.9739, Val-acc: 66.3%\n",
            "Epoch [20/50], Loss: 0.7156, Val-loss: 0.8903, Val-acc: 67.6%\n",
            "Epoch [21/50], Loss: 0.9947, Val-loss: 0.9488, Val-acc: 66.9%\n",
            "Epoch [22/50], Loss: 0.4821, Val-loss: 0.8104, Val-acc: 71.3%\n",
            "Epoch [23/50], Loss: 0.6765, Val-loss: 0.9176, Val-acc: 68.5%\n",
            "Epoch [24/50], Loss: 0.7954, Val-loss: 0.9985, Val-acc: 66.7%\n",
            "Epoch [25/50], Loss: 0.7823, Val-loss: 1.1429, Val-acc: 63.5%\n",
            "Epoch [26/50], Loss: 0.5050, Val-loss: 0.8602, Val-acc: 70.9%\n",
            "Epoch [27/50], Loss: 0.9652, Val-loss: 1.2392, Val-acc: 64.1%\n",
            "Epoch [28/50], Loss: 0.7293, Val-loss: 0.7856, Val-acc: 74.6%\n",
            "Epoch [29/50], Loss: 1.2372, Val-loss: 0.8309, Val-acc: 71.8%\n",
            "Epoch [30/50], Loss: 0.3756, Val-loss: 1.0174, Val-acc: 68.8%\n",
            "Epoch [31/50], Loss: 0.3537, Val-loss: 0.7110, Val-acc: 77.4%\n",
            "Epoch [32/50], Loss: 0.4502, Val-loss: 0.9332, Val-acc: 72.5%\n",
            "Epoch [33/50], Loss: 0.3801, Val-loss: 0.7279, Val-acc: 77.7%\n",
            "Epoch [34/50], Loss: 0.5132, Val-loss: 0.9896, Val-acc: 70.8%\n",
            "Epoch [35/50], Loss: 0.3752, Val-loss: 0.7311, Val-acc: 78.2%\n",
            "Epoch [36/50], Loss: 0.1839, Val-loss: 0.7237, Val-acc: 77.6%\n",
            "Epoch [37/50], Loss: 0.0562, Val-loss: 0.7829, Val-acc: 77.8%\n",
            "Epoch [38/50], Loss: 0.4306, Val-loss: 1.1019, Val-acc: 72.9%\n",
            "Epoch [39/50], Loss: 0.2595, Val-loss: 0.8678, Val-acc: 77.0%\n",
            "Epoch [40/50], Loss: 0.2544, Val-loss: 0.8086, Val-acc: 78.4%\n",
            "Epoch [41/50], Loss: 0.0175, Val-loss: 0.7337, Val-acc: 80.4%\n",
            "Epoch [42/50], Loss: 0.0772, Val-loss: 0.8852, Val-acc: 78.2%\n",
            "Epoch [43/50], Loss: 0.0625, Val-loss: 0.7887, Val-acc: 79.9%\n",
            "Epoch [44/50], Loss: 0.1843, Val-loss: 1.0877, Val-acc: 76.5%\n",
            "Epoch [45/50], Loss: 0.1224, Val-loss: 0.9432, Val-acc: 78.7%\n",
            "Epoch [46/50], Loss: 0.1033, Val-loss: 0.9525, Val-acc: 78.7%\n",
            "Epoch [47/50], Loss: 0.3066, Val-loss: 1.0776, Val-acc: 77.3%\n",
            "Epoch [48/50], Loss: 0.1140, Val-loss: 1.5153, Val-acc: 71.8%\n",
            "Epoch [49/50], Loss: 0.0366, Val-loss: 0.9668, Val-acc: 80.5%\n",
            "Epoch [50/50], Loss: 0.0235, Val-loss: 0.9275, Val-acc: 80.5%\n"
          ]
        }
      ]
    },
    {
      "cell_type": "code",
      "source": [
        "#model = torch.load(\"classic_cnn.pt\", weights_only = False)\n",
        "model.eval()"
      ],
      "metadata": {
        "id": "PSPXT8zIX7yO",
        "colab": {
          "base_uri": "https://localhost:8080/"
        },
        "outputId": "d764003a-28ca-453a-c5f4-83f4e3881683"
      },
      "execution_count": 35,
      "outputs": [
        {
          "output_type": "execute_result",
          "data": {
            "text/plain": [
              "ConvNeuralNet(\n",
              "  (conv1): Conv2d(3, 64, kernel_size=(4, 4), stride=(1, 1), padding=(1, 1))\n",
              "  (relu1): ReLU()\n",
              "  (max_pool1): MaxPool2d(kernel_size=3, stride=2, padding=0, dilation=1, ceil_mode=False)\n",
              "  (conv2): Conv2d(64, 192, kernel_size=(4, 4), stride=(1, 1), padding=(1, 1))\n",
              "  (relu2): ReLU()\n",
              "  (max_pool2): MaxPool2d(kernel_size=3, stride=2, padding=0, dilation=1, ceil_mode=False)\n",
              "  (conv3): Conv2d(192, 384, kernel_size=(3, 3), stride=(1, 1), padding=(1, 1))\n",
              "  (relu3): ReLU()\n",
              "  (conv4): Conv2d(384, 256, kernel_size=(3, 3), stride=(1, 1), padding=(1, 1))\n",
              "  (relu4): ReLU()\n",
              "  (conv5): Conv2d(256, 256, kernel_size=(3, 3), stride=(1, 1), padding=(1, 1))\n",
              "  (relu5): ReLU()\n",
              "  (max_pool5): MaxPool2d(kernel_size=3, stride=2, padding=0, dilation=1, ceil_mode=False)\n",
              "  (dropout6): Dropout(p=0.5, inplace=False)\n",
              "  (fc6): Linear(in_features=1024, out_features=512, bias=True)\n",
              "  (relu6): ReLU()\n",
              "  (dropout7): Dropout(p=0.5, inplace=False)\n",
              "  (fc7): Linear(in_features=512, out_features=256, bias=True)\n",
              "  (relu7): ReLU()\n",
              "  (fc8): Linear(in_features=256, out_features=10, bias=True)\n",
              ")"
            ]
          },
          "metadata": {},
          "execution_count": 35
        }
      ]
    },
    {
      "cell_type": "code",
      "source": [
        "# %%\n",
        "data_test = load_dataset(\n",
        "    \"uoft-cs/cifar10\",\n",
        "    split=\"test\",  # test set\n",
        ")\n",
        "preprocess = transforms.Compose(\n",
        "    [\n",
        "        transforms.Resize((32, 32)),\n",
        "        transforms.ToTensor(),\n",
        "        transforms.Normalize(mean=mean, std=std),\n",
        "    ]\n",
        ")\n"
      ],
      "metadata": {
        "id": "e_oIsGXsO7TP"
      },
      "execution_count": 36,
      "outputs": []
    },
    {
      "cell_type": "code",
      "source": [
        "# %%\n",
        "#testing with the first 10 pics\n",
        "print(dataset_val)\n",
        "testing_set = []\n",
        "for img in dataset_val[\"img\"][:10]:\n",
        "    tensor = preprocess(img)\n",
        "    testing_set.append(tensor.to(device))\n",
        "print(len(testing_set))\n",
        "print(testing_set[0].shape)\n"
      ],
      "metadata": {
        "colab": {
          "base_uri": "https://localhost:8080/"
        },
        "id": "czH0jxuVYrxY",
        "outputId": "29e3685a-9ecf-46d4-a286-df9a6107eec1"
      },
      "execution_count": 37,
      "outputs": [
        {
          "output_type": "stream",
          "name": "stdout",
          "text": [
            "Dataset({\n",
            "    features: ['img', 'label'],\n",
            "    num_rows: 10000\n",
            "})\n",
            "10\n",
            "torch.Size([3, 32, 32])\n"
          ]
        }
      ]
    },
    {
      "cell_type": "code",
      "source": [
        "# %%\n",
        "#stack them up to a single tensor\n",
        "test_tensor = torch.stack(testing_set)\n",
        "test_tensor.shape\n"
      ],
      "metadata": {
        "colab": {
          "base_uri": "https://localhost:8080/"
        },
        "id": "CeT0dMIuYvyA",
        "outputId": "8174671a-9da2-4bf2-a555-30ea91ae544c"
      },
      "execution_count": 38,
      "outputs": [
        {
          "output_type": "execute_result",
          "data": {
            "text/plain": [
              "torch.Size([10, 3, 32, 32])"
            ]
          },
          "metadata": {},
          "execution_count": 38
        }
      ]
    },
    {
      "cell_type": "code",
      "source": [
        "# %%\n",
        "#process the testing tensors\n",
        "outputs = model(test_tensor)\n",
        "predicted = torch.argmax(outputs, dim = 1)\n",
        "print(predicted)\n",
        "print(predicted.shape)\n"
      ],
      "metadata": {
        "colab": {
          "base_uri": "https://localhost:8080/"
        },
        "id": "zuSCPBfEYypy",
        "outputId": "3f5143fd-4f2b-49dc-fd7a-ecf8860d2a97"
      },
      "execution_count": 39,
      "outputs": [
        {
          "output_type": "stream",
          "name": "stdout",
          "text": [
            "tensor([3, 8, 1, 0, 6, 6, 9, 6, 3, 1], device='cuda:0')\n",
            "torch.Size([10])\n"
          ]
        }
      ]
    },
    {
      "cell_type": "code",
      "source": [
        "# %%\n",
        "print(\"Ground truth values: \")\n",
        "for i in range(10):\n",
        "    print(dataset_val['label'][i])\n"
      ],
      "metadata": {
        "colab": {
          "base_uri": "https://localhost:8080/"
        },
        "id": "bx8v7-LnY1iL",
        "outputId": "7d47c057-e881-406b-c47b-ce57ffd21eb5"
      },
      "execution_count": 40,
      "outputs": [
        {
          "output_type": "stream",
          "name": "stdout",
          "text": [
            "Ground truth values: \n",
            "3\n",
            "8\n",
            "8\n",
            "0\n",
            "6\n",
            "6\n",
            "1\n",
            "6\n",
            "3\n",
            "1\n"
          ]
        }
      ]
    },
    {
      "cell_type": "code",
      "source": [
        "# %%\n",
        "import matplotlib.pyplot as plt\n",
        "for i, img in enumerate(dataset_val['img'][:10]):\n",
        "    print(\"Image n° \", i)\n",
        "    plt.imshow(img)\n",
        "    plt.show()\n",
        "    print(\"Ground Tuth: \", dataset_val.features[\"label\"].names[dataset_val[\"label\"][i]])\n",
        "    print(\"Predicted: \", dataset_val.features[\"label\"].names[predicted[i]])\n",
        "\n"
      ],
      "metadata": {
        "colab": {
          "base_uri": "https://localhost:8080/",
          "height": 1000
        },
        "id": "gIv7ULECY43R",
        "outputId": "058faeae-c20e-4dbd-ca49-3b6990aa9e66"
      },
      "execution_count": 41,
      "outputs": [
        {
          "output_type": "stream",
          "name": "stdout",
          "text": [
            "Image n°  0\n"
          ]
        },
        {
          "output_type": "display_data",
          "data": {
            "text/plain": [
              "<Figure size 640x480 with 1 Axes>"
            ],
            "image/png": "[encoded data removed]"
          },
          "metadata": {}
        },
        {
          "output_type": "stream",
          "name": "stdout",
          "text": [
            "Ground Tuth:  cat\n",
            "Predicted:  cat\n",
            "Image n°  1\n"
          ]
        },
        {
          "output_type": "display_data",
          "data": {
            "text/plain": [
              "<Figure size 640x480 with 1 Axes>"
            ],
            "image/png": "[encoded data removed]"
          },
          "metadata": {}
        },
        {
          "output_type": "stream",
          "name": "stdout",
          "text": [
            "Ground Tuth:  ship\n",
            "Predicted:  ship\n",
            "Image n°  2\n"
          ]
        },
        {
          "output_type": "display_data",
          "data": {
            "text/plain": [
              "<Figure size 640x480 with 1 Axes>"
            ],
            "image/png": "[encoded data removed]"
          },
          "metadata": {}
        },
        {
          "output_type": "stream",
          "name": "stdout",
          "text": [
            "Ground Tuth:  ship\n",
            "Predicted:  automobile\n",
            "Image n°  3\n"
          ]
        },
        {
          "output_type": "display_data",
          "data": {
            "text/plain": [
              "<Figure size 640x480 with 1 Axes>"
            ],
            "image/png": "[encoded data removed]"
          },
          "metadata": {}
        },
        {
          "output_type": "stream",
          "name": "stdout",
          "text": [
            "Ground Tuth:  airplane\n",
            "Predicted:  airplane\n",
            "Image n°  4\n"
          ]
        },
        {
          "output_type": "display_data",
          "data": {
            "text/plain": [
              "<Figure size 640x480 with 1 Axes>"
            ],
            "image/png": "[encoded data removed]"
          },
          "metadata": {}
        },
        {
          "output_type": "stream",
          "name": "stdout",
          "text": [
            "Ground Tuth:  frog\n",
            "Predicted:  frog\n",
            "Image n°  5\n"
          ]
        },
        {
          "output_type": "display_data",
          "data": {
            "text/plain": [
              "<Figure size 640x480 with 1 Axes>"
            ],
            "image/png": "[encoded data removed]"
          },
          "metadata": {}
        },
        {
          "output_type": "stream",
          "name": "stdout",
          "text": [
            "Ground Tuth:  frog\n",
            "Predicted:  frog\n",
            "Image n°  6\n"
          ]
        },
        {
          "output_type": "display_data",
          "data": {
            "text/plain": [
              "<Figure size 640x480 with 1 Axes>"
            ],
            "image/png": "[encoded data removed]"
          },
          "metadata": {}
        },
        {
          "output_type": "stream",
          "name": "stdout",
          "text": [
            "Ground Tuth:  automobile\n",
            "Predicted:  truck\n",
            "Image n°  7\n"
          ]
        },
        {
          "output_type": "display_data",
          "data": {
            "text/plain": [
              "<Figure size 640x480 with 1 Axes>"
            ],
            "image/png": "[encoded data removed]"
          },
          "metadata": {}
        },
        {
          "output_type": "stream",
          "name": "stdout",
          "text": [
            "Ground Tuth:  frog\n",
            "Predicted:  frog\n",
            "Image n°  8\n"
          ]
        },
        {
          "output_type": "display_data",
          "data": {
            "text/plain": [
              "<Figure size 640x480 with 1 Axes>"
            ],
            "image/png": "[encoded data removed]"
          },
          "metadata": {}
        },
        {
          "output_type": "stream",
          "name": "stdout",
          "text": [
            "Ground Tuth:  cat\n",
            "Predicted:  cat\n",
            "Image n°  9\n"
          ]
        },
        {
          "output_type": "display_data",
          "data": {
            "text/plain": [
              "<Figure size 640x480 with 1 Axes>"
            ],
            "image/png": "[encoded data removed]"
          },
          "metadata": {}
        },
        {
          "output_type": "stream",
          "name": "stdout",
          "text": [
            "Ground Tuth:  automobile\n",
            "Predicted:  automobile\n"
          ]
        }
      ]
    }
  ]
}